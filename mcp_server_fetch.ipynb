{
 "cells": [
  {
   "cell_type": "markdown",
   "id": "fc6dc178",
   "metadata": {},
   "source": [
    "### Drumroll..\n",
    "\n",
    "## Introducing MCP!\n",
    "\n",
    "Our first look at the Model Context Protocol from Anthropic -\n",
    "\n",
    "Autogen makes it easy to use MCP tools, just like LangChain tools."
   ]
  },
  {
   "cell_type": "code",
   "execution_count": 8,
   "id": "93f2794d",
   "metadata": {},
   "outputs": [
    {
     "data": {
      "text/plain": [
       "True"
      ]
     },
     "execution_count": 8,
     "metadata": {},
     "output_type": "execute_result"
    }
   ],
   "source": [
    "\n",
    "\n",
    "load_dotenv(override=True)\n"
   ]
  },
  {
   "cell_type": "code",
   "execution_count": 9,
   "id": "8f57bce7",
   "metadata": {},
   "outputs": [
    {
     "data": {
      "text/markdown": [
       "# GitHub Profile Summary: Neelapu Dhanushree (dhanu6799)\n",
       "\n",
       "## Overview\n",
       "Neelapu Dhanushree, known by the GitHub handle **dhanu6799**, describes herself as a **TPM (Technical Project Manager) by day** and an **AI tinkerer by night**. She focuses on building agentic AI projects, automating workflows, and experimenting with various data and cloud tools. Always in a learning mindset, Dhanushree has a modest following with **1 follower** and **2 following**.\n",
       "\n",
       "## Key Projects\n",
       "1. **Deep-Research-Copilot-Dataset-Exploration-Example**\n",
       "   - A project showcasing an agent pipeline for aggregating and summarizing structured information, particularly through public datasets from platforms like Kaggle and UCI.\n",
       "   - **Tech Stack**: Python.\n",
       "\n",
       "2. **SDR-Agent**\n",
       "   - A business application that automates the creation of Sales Representatives to craft and send professional emails.\n",
       "   - **Tech Stack**: Jupyter Notebook.\n",
       "\n",
       "3. **Fresenius-Medical-Care---Conversational-AI**\n",
       "   - A fork from another project focused on conversational AI related to Fresenius Medical Care.\n",
       "   - **Engagement**: 501 stars.\n",
       "\n",
       "4. **Google-merch-store-analysis**\n",
       "   - This project analyzes traffic and user behavior of the Google Merchandise Store, providing insights on sources, demographics, and user journeys for the period of September to October 2023.\n",
       "\n",
       "5. **LangGraph**\n",
       "   - A side project exploring LangGraph to build graph-based AI agents, including Jupyter notebooks on state management and AI workflows.\n",
       "\n",
       "6. **n8n**\n",
       "   - A collection of automation workflows using n8n, featuring experiments and templates for tasks like data integration and automation.\n",
       "\n",
       "## Conclusion\n",
       "Dhanushree is actively engaged in AI and automation projects, showcasing a blend of technical skills and practical applications in her work. She participates in hands-on labs and aims to contribute to the growing field of conversational AI and automation technologies.\n",
       "\n",
       "TERMINATE"
      ],
      "text/plain": [
       "<IPython.core.display.Markdown object>"
      ]
     },
     "metadata": {},
     "output_type": "display_data"
    }
   ],
   "source": [
    "from autogen_agentchat.agents import AssistantAgent\n",
    "from autogen_ext.models.openai import OpenAIChatCompletionClient\n",
    "from autogen_ext.tools.mcp import StdioServerParams, mcp_server_tools\n",
    "from IPython.display import display, Markdown\n",
    "\n",
    "# Get the fetch tool from mcp-server-fetch\n",
    "fetch_mcp_server = StdioServerParams(\n",
    "    command=\"python3\",\n",
    "    args=[\"-m\", \"mcp_server_fetch\"],\n",
    "    read_timeout_seconds=30,\n",
    ")\n",
    "\n",
    "# Create the MCP tool adapters (this returns a list of tools)\n",
    "fetcher = await mcp_server_tools(fetch_mcp_server)\n",
    "\n",
    "# Create an agent that can use the fetch tool\n",
    "model_client = OpenAIChatCompletionClient(model=\"gpt-4o-mini\")\n",
    "agent = AssistantAgent(\n",
    "    name=\"fetcher\",\n",
    "    model_client=model_client,\n",
    "    tools=fetcher,              # now defined ✅\n",
    "    reflect_on_tool_use=True\n",
    ")\n",
    "\n",
    "# Let the agent fetch the content of a URL and summarize it\n",
    "result = await agent.run(task=\"Review https://github.com/dhanu6799 and summarize what you learn. Reply in Markdown.\")\n",
    "display(Markdown(result.messages[-1].content))\n"
   ]
  }
 ],
 "metadata": {
  "kernelspec": {
   "display_name": "autogen-env",
   "language": "python",
   "name": "python3"
  },
  "language_info": {
   "codemirror_mode": {
    "name": "ipython",
    "version": 3
   },
   "file_extension": ".py",
   "mimetype": "text/x-python",
   "name": "python",
   "nbconvert_exporter": "python",
   "pygments_lexer": "ipython3",
   "version": "3.12.3"
  }
 },
 "nbformat": 4,
 "nbformat_minor": 5
}
